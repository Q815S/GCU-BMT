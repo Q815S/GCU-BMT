{
  "nbformat": 4,
  "nbformat_minor": 0,
  "metadata": {
    "colab": {
      "provenance": []
    },
    "kernelspec": {
      "name": "python3",
      "display_name": "Python 3"
    },
    "language_info": {
      "name": "python"
    }
  },
  "cells": [
    {
      "cell_type": "markdown",
      "source": [
        "필요 라이브러리 설치"
      ],
      "metadata": {
        "id": "RYv6fqHd_cNf"
      }
    },
    {
      "cell_type": "code",
      "execution_count": null,
      "metadata": {
        "id": "ooTbHNIIo9dm"
      },
      "outputs": [],
      "source": [
        "!pip install trimesh matplotlib\n",
        "!pip install manifold3d\n",
        "\n",
        "import trimesh, zipfile,glob, io\n",
        "import matplotlib.pyplot as plt\n",
        "from google.colab import files\n",
        "import numpy as np\n",
        "from scipy.ndimage import gaussian_filter\n",
        "from PIL import Image, ImageOps # PIL 추가"
      ]
    },
    {
      "cell_type": "markdown",
      "source": [
        "STL 파일 분석"
      ],
      "metadata": {
        "id": "2ocfif5B_fdY"
      }
    },
    {
      "cell_type": "code",
      "source": [
        "uploaded = files.upload()\n",
        "stl_filename = list(uploaded.keys())[0]\n",
        "\n",
        "mesh = trimesh.load(io.BytesIO(uploaded[stl_filename]), file_type='stl')\n",
        "\n",
        "# Z 기준 슬라이싱\n",
        "z_range = mesh.bounds[1, 2] - mesh.bounds[0, 2]\n",
        "num_slices = int(z_range)\n",
        "slice_thickness = 0.01\n",
        "\n",
        "slices = []\n",
        "for z in np.linspace(mesh.bounds[0, 2], mesh.bounds[1, 2], num_slices):\n",
        "    plane_origin = [0, 0, z]\n",
        "    plane_normal = [0, 0, 1]\n",
        "    plane = trimesh.creation.box(extents=[100, 100, slice_thickness], transform=trimesh.transformations.translation_matrix(plane_origin))\n",
        "    slice = trimesh.boolean.intersection([mesh, plane])\n",
        "    slices.append(slice)\n",
        "\n",
        "for i, slice in enumerate(slices):\n",
        "    if slice is not None:\n",
        "        vertices = np.array(slice.vertices)\n",
        "        min_x, min_y = np.min(vertices[:, :2], axis=0)\n",
        "        max_x, max_y = np.max(vertices[:, :2], axis=0)\n",
        "\n",
        "        max_size = 500\n",
        "        width = min(int(max_x - min_x) + 1, max_size)\n",
        "        height = min(int(max_y - min_y) + 1, max_size)\n",
        "        image = np.zeros((height, width))\n",
        "\n",
        "        # sigma 값 조절 (예: 2.0)\n",
        "        image = gaussian_filter(image, sigma=2.0)\n",
        "\n",
        "        for vertex in vertices:\n",
        "            x, y = int(vertex[0] - min_x), int(vertex[1] - min_y)\n",
        "            if 0 <= x < width and 0 <= y < height:\n",
        "                image[y, x] = 1\n",
        "\n",
        "        fig, ax = plt.subplots()\n",
        "        ax.imshow(image, cmap='gray')\n",
        "        ax.axis('off')\n",
        "        plt.savefig(f'slice_{i}.png')\n",
        "        plt.close(fig)\n",
        "\n",
        "        # 보정\n",
        "        img = Image.open(f'slice_{i}.png').convert(\"RGB\")\n",
        "        img = ImageOps.expand(img, border=10, fill='white')\n",
        "        img.save(f'slice_{i}.png')\n",
        "\n",
        "    else:\n",
        "        print(f\"Slice {i} is empty.\")\n",
        "\n",
        "# ZIP 파일 생성 및 다운로드\n",
        "with zipfile.ZipFile('model_slices.zip', 'w') as zipf:\n",
        "    for filename in glob.glob('slice_*.png'):\n",
        "        zipf.write(filename)\n",
        "\n",
        "files.download('model_slices.zip')"
      ],
      "metadata": {
        "id": "29vdPl_T1lM9"
      },
      "execution_count": null,
      "outputs": []
    },
    {
      "cell_type": "markdown",
      "source": [
        "모서리 다듬기 (오류 있음)"
      ],
      "metadata": {
        "id": "4Alvyjf-_P7o"
      }
    },
    {
      "cell_type": "code",
      "source": [
        "from scipy.ndimage import gaussian_filter\n",
        "        image = gaussian_filter(image, sigma=0.5)\n",
        "\n",
        "        fig, ax = plt.subplots()\n",
        "        ax.imshow(image, cmap='gray')\n",
        "        ax.axis('off')\n",
        "        plt.savefig(f'slice_{i}.png')\n",
        "        plt.close(fig)\n",
        "    else:\n",
        "        print(f\"Slice {i} is empty.\")"
      ],
      "metadata": {
        "id": "crpAfaHo_OHE"
      },
      "execution_count": null,
      "outputs": []
    }
  ]
}